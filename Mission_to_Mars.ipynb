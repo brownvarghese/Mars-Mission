{
 "cells": [
  {
   "cell_type": "code",
   "execution_count": 1,
   "metadata": {},
   "outputs": [],
   "source": [
    "from splinter import Browser\n",
    "from bs4 import BeautifulSoup as bs\n",
    "import time\n",
    "import requests\n"
   ]
  },
  {
   "cell_type": "code",
   "execution_count": 2,
   "metadata": {},
   "outputs": [],
   "source": [
    "import numpy as np\n",
    "import pandas as pd\n",
    "import re"
   ]
  },
  {
   "cell_type": "code",
   "execution_count": 3,
   "metadata": {},
   "outputs": [],
   "source": [
    "import datetime as dt\n",
    "import time\n",
    "import datetime"
   ]
  },
  {
   "cell_type": "code",
   "execution_count": 4,
   "metadata": {},
   "outputs": [],
   "source": [
    "from dateutil.relativedelta import relativedelta\n",
    "from pprint import pprint"
   ]
  },
  {
   "cell_type": "code",
   "execution_count": 5,
   "metadata": {},
   "outputs": [],
   "source": [
    "mars_info_dict=dict()"
   ]
  },
  {
   "cell_type": "code",
   "execution_count": 6,
   "metadata": {},
   "outputs": [],
   "source": [
    "def init_browser():\n",
    "    # @NOTE: Replace the path with your actual path to the chromedriver\n",
    "    #executable_path = {\"executable_path\": \"/usr/local/bin/chromedriver\"}\n",
    "    #return Browser(\"chrome\", **executable_path, headless=False)\n",
    "\n",
    "    executable_path = {'executable_path': 'chromedriver.exe'}\n",
    "    return Browser('chrome', **executable_path, headless=True)"
   ]
  },
  {
   "cell_type": "code",
   "execution_count": 7,
   "metadata": {},
   "outputs": [],
   "source": [
    "#def scrape_info():\n",
    "browser = init_browser()\n",
    "\n",
    "# Visit NASA Mars News Site\n",
    "url = \"https://mars.nasa.gov/news/\"\n",
    "browser.visit(url)\n",
    "    \n",
    "# Scrape page into Soup\n",
    "html = browser.html\n",
    "soup = bs(html, \"html.parser\")\n",
    "    \n",
    "#print(soup.prettify())\n",
    "# Get the News\n",
    "\n",
    "#news_titles = soup.find('div', class_='content_title').text\n",
    "#news_body = soup.find('div', class_=\"article_teaser_body\").text\n",
    "\n",
    "\n",
    "news_titles = soup.find('div', class_='content_title').get_text()\n",
    "news_body = soup.find('div', class_=\"article_teaser_body\").get_text()\n"
   ]
  },
  {
   "cell_type": "code",
   "execution_count": 8,
   "metadata": {},
   "outputs": [
    {
     "name": "stdout",
     "output_type": "stream",
     "text": [
      "{'Mars_news_body': \"The main robotic arm has been installed on NASA's newest \"\n",
      "                   'rover. When complete, the arm will enable the rover to '\n",
      "                   'hold and use science tools like a human geologist would.',\n",
      " 'Mars_news_title': \"Mars 2020 Rover's 7-Foot-Long Robotic Arm Installed\"}\n"
     ]
    }
   ],
   "source": [
    "mars_info_dict[\"Mars_news_title\"] = news_titles\n",
    "mars_info_dict[\"Mars_news_body\"] = news_body\n",
    "pprint(mars_info_dict)"
   ]
  },
  {
   "cell_type": "code",
   "execution_count": 9,
   "metadata": {},
   "outputs": [],
   "source": [
    "\n",
    "url2 = 'https://www.jpl.nasa.gov/spaceimages/?search=&category=Mars'\n",
    "browser.visit(url2)\n",
    "\n",
    "html = browser.html\n",
    "soup = bs(html, 'html.parser')\n",
    "\n",
    "full_image = browser.find_by_id('full_image')\n",
    "full_image.click()\n"
   ]
  },
  {
   "cell_type": "code",
   "execution_count": 10,
   "metadata": {},
   "outputs": [],
   "source": [
    "##url2 = 'https://www.jpl.nasa.gov/spaceimages/?search=&category=Mars'\n",
    "##browser.visit(url2)\n",
    "##html = browser.html\n",
    "##soup = bs(html, 'html.parser')\n",
    "#---------------\n",
    "\n",
    "\n",
    "##image_url = soup.find(\"a\", class_ = \"button fancybox\")[\"data-fancybox-href\"]\n",
    "\n",
    "\n",
    "\n",
    "##featured_image_url ={f\"url2\" + image_url}\n",
    "\n",
    "##featured_image_url = \"{in1}{in2}\".format(in1=url2, in2=image_url)\n",
    "\n",
    "##featured_image_url"
   ]
  },
  {
   "cell_type": "code",
   "execution_count": 11,
   "metadata": {},
   "outputs": [],
   "source": [
    "#Append featured image url to the Mars dictionary.\n",
    "###mars_info_dict[\"Mars_featured_image_url\"] = featured_image_url"
   ]
  },
  {
   "cell_type": "code",
   "execution_count": 12,
   "metadata": {},
   "outputs": [],
   "source": [
    "url2 = 'https://www.jpl.nasa.gov/spaceimages/?search=&category=Mars'\n",
    "browser.visit(url2)\n",
    "\n",
    "time.sleep(1)\n",
    "\n",
    "full_image_elem = browser.find_by_id(\"full_image\")\n",
    "full_image_elem.click()\n",
    "browser.is_element_present_by_text(\"more info\",wait_time = 1)\n",
    "\n",
    "more_info_elem = browser.find_link_by_partial_text(\"more info\")\n",
    "more_info_elem.click()\n",
    "    \n",
    "\n",
    "html = browser.html\n",
    "soup = bs(html, \"html.parser\")\n",
    "    \n",
    "featured_image_url = soup.select_one(\"figure.lede a img\").get(\"src\")\n",
    "image_url = f'https://www.jpl.nasa.gov{featured_image_url}'\n",
    "    \n",
    "featured_image_url=image_url\n",
    "\n",
    "#Append featured image url to the Mars dictionary.\n",
    "mars_info_dict[\"Mars_featured_image_url\"] = featured_image_url\n"
   ]
  },
  {
   "cell_type": "markdown",
   "metadata": {},
   "source": [
    "## Mars Weather\n",
    "#### Visit the Mars Weather twitter account here and scrape the latest Mars weather tweet from the page. Save the tweet text for the weather report as a variable called mars_weather."
   ]
  },
  {
   "cell_type": "code",
   "execution_count": 13,
   "metadata": {},
   "outputs": [
    {
     "name": "stdout",
     "output_type": "stream",
     "text": [
      "InSight sol 206 (2019-06-25) low -103.5ºC (-154.2ºF) high -25.3ºC (-13.5ºF)\n",
      "winds from the SE at 4.3 m/s (9.6 mph) gusting to 15.6 m/s (34.8 mph)\n",
      "pressure at 7.60 hPapic.twitter.com/lqcwvVG0c9\n"
     ]
    }
   ],
   "source": [
    "\n",
    "browser = init_browser()\n",
    "\n",
    "# Visit NASA Mars News Site\n",
    "url = \"https://twitter.com/marswxreport?lang=en\"\n",
    "browser.visit(url)\n",
    "    \n",
    "# Scrape page into Soup\n",
    "html = browser.html\n",
    "soup = bs(html, \"html.parser\")\n",
    "    \n",
    "#print(soup.prettify())\n",
    "# Get the News\n",
    "\n",
    "#mars_weather = \n",
    "a = soup.find('div', class_=\"js-tweet-text-container\").find('p').get_text()\n",
    "\n",
    "#soup.get_text()\n",
    "type (a)\n",
    "print (a)\n",
    "#soup.find_all('p').[]"
   ]
  },
  {
   "cell_type": "code",
   "execution_count": 14,
   "metadata": {},
   "outputs": [
    {
     "data": {
      "text/plain": [
       "'InSight sol 206 (2019-06-25) low -103.5ºC (-154.2ºF) high -25.3ºC (-13.5ºF)winds from the SE at 4.3 m/s (9.6 mph) gusting to 15.6 m/s (34.8 mph)pressure at 7.60 hPa'"
      ]
     },
     "execution_count": 14,
     "metadata": {},
     "output_type": "execute_result"
    }
   ],
   "source": [
    "mars_weather_tags=soup.find('p', class_=\"TweetTextSize TweetTextSize--normal js-tweet-text tweet-text\").text.split('pic.twitter.com')[0].split('\\n')\n",
    "\n",
    "mars_weather=mars_weather_tags[0] + mars_weather_tags[1] + mars_weather_tags[2]\n",
    "mars_weather"
   ]
  },
  {
   "cell_type": "code",
   "execution_count": 15,
   "metadata": {},
   "outputs": [
    {
     "name": "stdout",
     "output_type": "stream",
     "text": [
      "{'Mars_featured_image_url': 'https://www.jpl.nasa.gov/spaceimages/images/largesize/PIA18847_hires.jpg',\n",
      " 'Mars_news_body': \"The main robotic arm has been installed on NASA's newest \"\n",
      "                   'rover. When complete, the arm will enable the rover to '\n",
      "                   'hold and use science tools like a human geologist would.',\n",
      " 'Mars_news_title': \"Mars 2020 Rover's 7-Foot-Long Robotic Arm Installed\",\n",
      " 'Mars_tweet_weather': 'InSight sol 206 (2019-06-25) low -103.5ºC (-154.2ºF) '\n",
      "                       'high -25.3ºC (-13.5ºF)winds from the SE at 4.3 m/s '\n",
      "                       '(9.6 mph) gusting to 15.6 m/s (34.8 mph)pressure at '\n",
      "                       '7.60 hPa'}\n"
     ]
    }
   ],
   "source": [
    "#Add weather tweet to the mars_info dict.\n",
    "mars_info_dict[\"Mars_tweet_weather\"] = mars_weather\n",
    "pprint(mars_info_dict)"
   ]
  },
  {
   "cell_type": "code",
   "execution_count": 16,
   "metadata": {},
   "outputs": [
    {
     "data": {
      "text/html": [
       "<div>\n",
       "<style scoped>\n",
       "    .dataframe tbody tr th:only-of-type {\n",
       "        vertical-align: middle;\n",
       "    }\n",
       "\n",
       "    .dataframe tbody tr th {\n",
       "        vertical-align: top;\n",
       "    }\n",
       "\n",
       "    .dataframe thead th {\n",
       "        text-align: right;\n",
       "    }\n",
       "</style>\n",
       "<table border=\"1\" class=\"dataframe\">\n",
       "  <thead>\n",
       "    <tr style=\"text-align: right;\">\n",
       "      <th></th>\n",
       "      <th>Mars_Facts</th>\n",
       "      <th>Values</th>\n",
       "    </tr>\n",
       "  </thead>\n",
       "  <tbody>\n",
       "    <tr>\n",
       "      <th>0</th>\n",
       "      <td>Equatorial Diameter:</td>\n",
       "      <td>6,792 km</td>\n",
       "    </tr>\n",
       "    <tr>\n",
       "      <th>1</th>\n",
       "      <td>Polar Diameter:</td>\n",
       "      <td>6,752 km</td>\n",
       "    </tr>\n",
       "    <tr>\n",
       "      <th>2</th>\n",
       "      <td>Mass:</td>\n",
       "      <td>6.42 x 10^23 kg (10.7% Earth)</td>\n",
       "    </tr>\n",
       "    <tr>\n",
       "      <th>3</th>\n",
       "      <td>Moons:</td>\n",
       "      <td>2 (Phobos &amp; Deimos)</td>\n",
       "    </tr>\n",
       "    <tr>\n",
       "      <th>4</th>\n",
       "      <td>Orbit Distance:</td>\n",
       "      <td>227,943,824 km (1.52 AU)</td>\n",
       "    </tr>\n",
       "    <tr>\n",
       "      <th>5</th>\n",
       "      <td>Orbit Period:</td>\n",
       "      <td>687 days (1.9 years)</td>\n",
       "    </tr>\n",
       "    <tr>\n",
       "      <th>6</th>\n",
       "      <td>Surface Temperature:</td>\n",
       "      <td>-153 to 20 °C</td>\n",
       "    </tr>\n",
       "    <tr>\n",
       "      <th>7</th>\n",
       "      <td>First Record:</td>\n",
       "      <td>2nd millennium BC</td>\n",
       "    </tr>\n",
       "    <tr>\n",
       "      <th>8</th>\n",
       "      <td>Recorded By:</td>\n",
       "      <td>Egyptian astronomers</td>\n",
       "    </tr>\n",
       "  </tbody>\n",
       "</table>\n",
       "</div>"
      ],
      "text/plain": [
       "             Mars_Facts                         Values\n",
       "0  Equatorial Diameter:                       6,792 km\n",
       "1       Polar Diameter:                       6,752 km\n",
       "2                 Mass:  6.42 x 10^23 kg (10.7% Earth)\n",
       "3                Moons:            2 (Phobos & Deimos)\n",
       "4       Orbit Distance:       227,943,824 km (1.52 AU)\n",
       "5         Orbit Period:           687 days (1.9 years)\n",
       "6  Surface Temperature:                  -153 to 20 °C\n",
       "7         First Record:              2nd millennium BC\n",
       "8          Recorded By:           Egyptian astronomers"
      ]
     },
     "execution_count": 16,
     "metadata": {},
     "output_type": "execute_result"
    }
   ],
   "source": [
    "url4 = \"http://space-facts.com/mars/\"\n",
    "df_Mars_all_Facts = pd.read_html(url4)\n",
    "df_marsfacts = df_Mars_all_Facts[0]\n",
    "\n",
    "\n",
    "# Rename columns of the dataframe. \n",
    "df_marsfacts.columns = ['Mars_Facts', 'Values']\n",
    "df_marsfacts"
   ]
  },
  {
   "cell_type": "code",
   "execution_count": 17,
   "metadata": {},
   "outputs": [],
   "source": [
    "#convert DataFrame to html\n",
    "df_marsfacts.to_html(\"mars_facts.html\", index=False)"
   ]
  },
  {
   "cell_type": "code",
   "execution_count": 18,
   "metadata": {},
   "outputs": [
    {
     "name": "stdout",
     "output_type": "stream",
     "text": [
      "{'Mars_facts_table': '<table border=\"1\" class=\"dataframe mars_facts table '\n",
      "                     'table-striped\">\\n'\n",
      "                     '  <thead>\\n'\n",
      "                     '    <tr style=\"text-align: right;\">\\n'\n",
      "                     '      <th></th>\\n'\n",
      "                     '      <th>Mars_Facts</th>\\n'\n",
      "                     '      <th>Values</th>\\n'\n",
      "                     '    </tr>\\n'\n",
      "                     '  </thead>\\n'\n",
      "                     '  <tbody>\\n'\n",
      "                     '    <tr>\\n'\n",
      "                     '      <th>0</th>\\n'\n",
      "                     '      <td>Equatorial Diameter:</td>\\n'\n",
      "                     '      <td>6,792 km</td>\\n'\n",
      "                     '    </tr>\\n'\n",
      "                     '    <tr>\\n'\n",
      "                     '      <th>1</th>\\n'\n",
      "                     '      <td>Polar Diameter:</td>\\n'\n",
      "                     '      <td>6,752 km</td>\\n'\n",
      "                     '    </tr>\\n'\n",
      "                     '    <tr>\\n'\n",
      "                     '      <th>2</th>\\n'\n",
      "                     '      <td>Mass:</td>\\n'\n",
      "                     '      <td>6.42 x 10^23 kg (10.7% Earth)</td>\\n'\n",
      "                     '    </tr>\\n'\n",
      "                     '    <tr>\\n'\n",
      "                     '      <th>3</th>\\n'\n",
      "                     '      <td>Moons:</td>\\n'\n",
      "                     '      <td>2 (Phobos &amp; Deimos)</td>\\n'\n",
      "                     '    </tr>\\n'\n",
      "                     '    <tr>\\n'\n",
      "                     '      <th>4</th>\\n'\n",
      "                     '      <td>Orbit Distance:</td>\\n'\n",
      "                     '      <td>227,943,824 km (1.52 AU)</td>\\n'\n",
      "                     '    </tr>\\n'\n",
      "                     '    <tr>\\n'\n",
      "                     '      <th>5</th>\\n'\n",
      "                     '      <td>Orbit Period:</td>\\n'\n",
      "                     '      <td>687 days (1.9 years)</td>\\n'\n",
      "                     '    </tr>\\n'\n",
      "                     '    <tr>\\n'\n",
      "                     '      <th>6</th>\\n'\n",
      "                     '      <td>Surface Temperature:</td>\\n'\n",
      "                     '      <td>-153 to 20 °C</td>\\n'\n",
      "                     '    </tr>\\n'\n",
      "                     '    <tr>\\n'\n",
      "                     '      <th>7</th>\\n'\n",
      "                     '      <td>First Record:</td>\\n'\n",
      "                     '      <td>2nd millennium BC</td>\\n'\n",
      "                     '    </tr>\\n'\n",
      "                     '    <tr>\\n'\n",
      "                     '      <th>8</th>\\n'\n",
      "                     '      <td>Recorded By:</td>\\n'\n",
      "                     '      <td>Egyptian astronomers</td>\\n'\n",
      "                     '    </tr>\\n'\n",
      "                     '  </tbody>\\n'\n",
      "                     '</table>',\n",
      " 'Mars_featured_image_url': 'https://www.jpl.nasa.gov/spaceimages/images/largesize/PIA18847_hires.jpg',\n",
      " 'Mars_news_body': \"The main robotic arm has been installed on NASA's newest \"\n",
      "                   'rover. When complete, the arm will enable the rover to '\n",
      "                   'hold and use science tools like a human geologist would.',\n",
      " 'Mars_news_title': \"Mars 2020 Rover's 7-Foot-Long Robotic Arm Installed\",\n",
      " 'Mars_tweet_weather': 'InSight sol 206 (2019-06-25) low -103.5ºC (-154.2ºF) '\n",
      "                       'high -25.3ºC (-13.5ºF)winds from the SE at 4.3 m/s '\n",
      "                       '(9.6 mph) gusting to 15.6 m/s (34.8 mph)pressure at '\n",
      "                       '7.60 hPa'}\n"
     ]
    }
   ],
   "source": [
    "#Add index to Dataframe for better retrieval. \n",
    "df_marsfacts.set_index(\"Mars_Facts\")\n",
    "\n",
    "#html version of the Mars facts tables.\n",
    "mars_facts_html = df_marsfacts.to_html(classes=\"mars_facts table table-striped\")\n",
    "mars_info_dict[\"Mars_facts_table\"] = mars_facts_html\n",
    "\n",
    "pprint(mars_info_dict)\n",
    "\n"
   ]
  },
  {
   "cell_type": "markdown",
   "metadata": {},
   "source": [
    "### Part 5. Mars Hemispheres"
   ]
  },
  {
   "cell_type": "code",
   "execution_count": 19,
   "metadata": {},
   "outputs": [],
   "source": [
    "url5 =  \"https://astrogeology.usgs.gov/search/results?q=hemisphere+enhanced&k1=target&v1=Mars/\"\n",
    "browser.visit(url5)\n",
    "time.sleep(10)\n",
    "html5 = browser.html\n",
    "soup5 = bs(html5, \"html.parser\")\n",
    "\n",
    "class_collap_results = soup5.find('div', class_=\"collapsible results\")\n",
    "hemis_items = class_collap_results.find_all('div',class_='item')\n"
   ]
  },
  {
   "cell_type": "code",
   "execution_count": 20,
   "metadata": {},
   "outputs": [
    {
     "name": "stdout",
     "output_type": "stream",
     "text": [
      "[{'title': 'Cerberus Hemisphere Enhanced', 'img_url': 'http://astropedia.astrogeology.usgs.gov/download/Mars/Viking/cerberus_enhanced.tif/full.jpg'}, {'title': 'Schiaparelli Hemisphere Enhanced', 'img_url': 'http://astropedia.astrogeology.usgs.gov/download/Mars/Viking/schiaparelli_enhanced.tif/full.jpg'}, {'title': 'Syrtis Major Hemisphere Enhanced', 'img_url': 'http://astropedia.astrogeology.usgs.gov/download/Mars/Viking/syrtis_major_enhanced.tif/full.jpg'}, {'title': 'Valles Marineris Hemisphere Enhanced', 'img_url': 'http://astropedia.astrogeology.usgs.gov/download/Mars/Viking/valles_marineris_enhanced.tif/full.jpg'}]\n",
      "['Cerberus Hemisphere Enhanced', 'Schiaparelli Hemisphere Enhanced', 'Syrtis Major Hemisphere Enhanced', 'Valles Marineris Hemisphere Enhanced']\n",
      "['http://astropedia.astrogeology.usgs.gov/download/Mars/Viking/cerberus_enhanced.tif/full.jpg', 'http://astropedia.astrogeology.usgs.gov/download/Mars/Viking/schiaparelli_enhanced.tif/full.jpg', 'http://astropedia.astrogeology.usgs.gov/download/Mars/Viking/syrtis_major_enhanced.tif/full.jpg', 'http://astropedia.astrogeology.usgs.gov/download/Mars/Viking/valles_marineris_enhanced.tif/full.jpg']\n"
     ]
    }
   ],
   "source": [
    "#loop thru to find tile and the image urls to append to lists. \n",
    "hemis_img_urls_list=list()\n",
    "img_urls_list = list()\n",
    "title_list = list()\n",
    "for h in hemis_items:\n",
    "    #save title\n",
    "    h_title = h.h3.text\n",
    "    title_list.append(h_title)\n",
    "    \n",
    "    # find the href link.\n",
    "    h_href  = \"https://astrogeology.usgs.gov\" + h.find('a',class_='itemLink product-item')['href']\n",
    "    \n",
    "    #print(h_title,h_href)\n",
    "    \n",
    "    #browse the link from each page\n",
    "    browser.visit(h_href)\n",
    "    time.sleep(5)\n",
    "    #Retrieve the  image links and store in a list. \n",
    "    html5   = browser.html\n",
    "    soup_img = bs(html5, 'html.parser')\n",
    "    h_img_url = soup_img.find('div', class_='downloads').find('li').a['href']\n",
    "    \n",
    "    img_urls_list.append(h_img_url)\n",
    "    \n",
    "    # create a dictionary with  each image and title and append to a list. \n",
    "    hemispheres_dict = dict()\n",
    "    hemispheres_dict['title'] = h_title\n",
    "    hemispheres_dict['img_url'] = h_img_url\n",
    "    \n",
    "    hemis_img_urls_list.append(hemispheres_dict)\n",
    "    \n",
    "print(hemis_img_urls_list)\n",
    "print(title_list)\n",
    "print(img_urls_list)\n"
   ]
  },
  {
   "cell_type": "code",
   "execution_count": 21,
   "metadata": {},
   "outputs": [],
   "source": [
    "#Add hemispheres list  to the mars_info dictionary.\n",
    "mars_info_dict[\"Hemisphere_image_urls\"] = hemis_img_urls_list\n",
    "\n"
   ]
  },
  {
   "cell_type": "code",
   "execution_count": 22,
   "metadata": {},
   "outputs": [],
   "source": [
    "#Generate date time and store in the dictionary.\n",
    "cur_datetime = datetime.datetime.utcnow()\n",
    "mars_info_dict[\"Date_time\"] = cur_datetime"
   ]
  },
  {
   "cell_type": "code",
   "execution_count": 23,
   "metadata": {},
   "outputs": [
    {
     "name": "stdout",
     "output_type": "stream",
     "text": [
      "{'Date_time': datetime.datetime(2019, 6, 29, 23, 50, 27, 145595),\n",
      " 'Hemisphere_image_urls': [{'img_url': 'http://astropedia.astrogeology.usgs.gov/download/Mars/Viking/cerberus_enhanced.tif/full.jpg',\n",
      "                            'title': 'Cerberus Hemisphere Enhanced'},\n",
      "                           {'img_url': 'http://astropedia.astrogeology.usgs.gov/download/Mars/Viking/schiaparelli_enhanced.tif/full.jpg',\n",
      "                            'title': 'Schiaparelli Hemisphere Enhanced'},\n",
      "                           {'img_url': 'http://astropedia.astrogeology.usgs.gov/download/Mars/Viking/syrtis_major_enhanced.tif/full.jpg',\n",
      "                            'title': 'Syrtis Major Hemisphere Enhanced'},\n",
      "                           {'img_url': 'http://astropedia.astrogeology.usgs.gov/download/Mars/Viking/valles_marineris_enhanced.tif/full.jpg',\n",
      "                            'title': 'Valles Marineris Hemisphere Enhanced'}],\n",
      " 'Mars_facts_table': '<table border=\"1\" class=\"dataframe mars_facts table '\n",
      "                     'table-striped\">\\n'\n",
      "                     '  <thead>\\n'\n",
      "                     '    <tr style=\"text-align: right;\">\\n'\n",
      "                     '      <th></th>\\n'\n",
      "                     '      <th>Mars_Facts</th>\\n'\n",
      "                     '      <th>Values</th>\\n'\n",
      "                     '    </tr>\\n'\n",
      "                     '  </thead>\\n'\n",
      "                     '  <tbody>\\n'\n",
      "                     '    <tr>\\n'\n",
      "                     '      <th>0</th>\\n'\n",
      "                     '      <td>Equatorial Diameter:</td>\\n'\n",
      "                     '      <td>6,792 km</td>\\n'\n",
      "                     '    </tr>\\n'\n",
      "                     '    <tr>\\n'\n",
      "                     '      <th>1</th>\\n'\n",
      "                     '      <td>Polar Diameter:</td>\\n'\n",
      "                     '      <td>6,752 km</td>\\n'\n",
      "                     '    </tr>\\n'\n",
      "                     '    <tr>\\n'\n",
      "                     '      <th>2</th>\\n'\n",
      "                     '      <td>Mass:</td>\\n'\n",
      "                     '      <td>6.42 x 10^23 kg (10.7% Earth)</td>\\n'\n",
      "                     '    </tr>\\n'\n",
      "                     '    <tr>\\n'\n",
      "                     '      <th>3</th>\\n'\n",
      "                     '      <td>Moons:</td>\\n'\n",
      "                     '      <td>2 (Phobos &amp; Deimos)</td>\\n'\n",
      "                     '    </tr>\\n'\n",
      "                     '    <tr>\\n'\n",
      "                     '      <th>4</th>\\n'\n",
      "                     '      <td>Orbit Distance:</td>\\n'\n",
      "                     '      <td>227,943,824 km (1.52 AU)</td>\\n'\n",
      "                     '    </tr>\\n'\n",
      "                     '    <tr>\\n'\n",
      "                     '      <th>5</th>\\n'\n",
      "                     '      <td>Orbit Period:</td>\\n'\n",
      "                     '      <td>687 days (1.9 years)</td>\\n'\n",
      "                     '    </tr>\\n'\n",
      "                     '    <tr>\\n'\n",
      "                     '      <th>6</th>\\n'\n",
      "                     '      <td>Surface Temperature:</td>\\n'\n",
      "                     '      <td>-153 to 20 °C</td>\\n'\n",
      "                     '    </tr>\\n'\n",
      "                     '    <tr>\\n'\n",
      "                     '      <th>7</th>\\n'\n",
      "                     '      <td>First Record:</td>\\n'\n",
      "                     '      <td>2nd millennium BC</td>\\n'\n",
      "                     '    </tr>\\n'\n",
      "                     '    <tr>\\n'\n",
      "                     '      <th>8</th>\\n'\n",
      "                     '      <td>Recorded By:</td>\\n'\n",
      "                     '      <td>Egyptian astronomers</td>\\n'\n",
      "                     '    </tr>\\n'\n",
      "                     '  </tbody>\\n'\n",
      "                     '</table>',\n",
      " 'Mars_featured_image_url': 'https://www.jpl.nasa.gov/spaceimages/images/largesize/PIA18847_hires.jpg',\n",
      " 'Mars_news_body': \"The main robotic arm has been installed on NASA's newest \"\n",
      "                   'rover. When complete, the arm will enable the rover to '\n",
      "                   'hold and use science tools like a human geologist would.',\n",
      " 'Mars_news_title': \"Mars 2020 Rover's 7-Foot-Long Robotic Arm Installed\",\n",
      " 'Mars_tweet_weather': 'InSight sol 206 (2019-06-25) low -103.5ºC (-154.2ºF) '\n",
      "                       'high -25.3ºC (-13.5ºF)winds from the SE at 4.3 m/s '\n",
      "                       '(9.6 mph) gusting to 15.6 m/s (34.8 mph)pressure at '\n",
      "                       '7.60 hPa'}\n"
     ]
    }
   ],
   "source": [
    "pprint(mars_info_dict)"
   ]
  },
  {
   "cell_type": "code",
   "execution_count": null,
   "metadata": {},
   "outputs": [],
   "source": []
  },
  {
   "cell_type": "code",
   "execution_count": null,
   "metadata": {},
   "outputs": [],
   "source": []
  }
 ],
 "metadata": {
  "kernel_info": {
   "name": "python3"
  },
  "kernelspec": {
   "display_name": "Python 3",
   "language": "python",
   "name": "python3"
  },
  "language_info": {
   "codemirror_mode": {
    "name": "ipython",
    "version": 3
   },
   "file_extension": ".py",
   "mimetype": "text/x-python",
   "name": "python",
   "nbconvert_exporter": "python",
   "pygments_lexer": "ipython3",
   "version": "3.7.2"
  },
  "nteract": {
   "version": "0.12.3"
  },
  "varInspector": {
   "cols": {
    "lenName": 16,
    "lenType": 16,
    "lenVar": 40
   },
   "kernels_config": {
    "python": {
     "delete_cmd_postfix": "",
     "delete_cmd_prefix": "del ",
     "library": "var_list.py",
     "varRefreshCmd": "print(var_dic_list())"
    },
    "r": {
     "delete_cmd_postfix": ") ",
     "delete_cmd_prefix": "rm(",
     "library": "var_list.r",
     "varRefreshCmd": "cat(var_dic_list()) "
    }
   },
   "types_to_exclude": [
    "module",
    "function",
    "builtin_function_or_method",
    "instance",
    "_Feature"
   ],
   "window_display": false
  }
 },
 "nbformat": 4,
 "nbformat_minor": 2
}
